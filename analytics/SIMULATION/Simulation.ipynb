{
 "cells": [
  {
   "cell_type": "code",
   "execution_count": null,
   "metadata": {},
   "outputs": [],
   "source": [
    "from copy import deepcopy\n",
    "import subprocess\n",
    "import socket\n",
    "\n",
    "import sys\n",
    "\n",
    "import concurrent.futures"
   ]
  },
  {
   "cell_type": "code",
   "execution_count": null,
   "metadata": {
    "code_folding": [
     3
    ]
   },
   "outputs": [],
   "source": [
    "l = int(input(\"Horizontal number of wifi-access points: \"))\n",
    "b = int(input(\"Vertical number of wifi-access points: \"))\n",
    "n = 0\n",
    "while n % 2 == 0 and n <= 9:\n",
    "    n = int(\n",
    "        input(\"Number of mesh-points between two wifi-access points (odd and <=9): \")\n",
    "    )\n",
    "hops = int(input(\"Max hops: \"))"
   ]
  },
  {
   "cell_type": "code",
   "execution_count": null,
   "metadata": {
    "code_folding": [
     0
    ]
   },
   "outputs": [],
   "source": [
    "def n_num_in_list(_list, n):\n",
    "    ans = []\n",
    "    def n_num_in_list_util(_l, _n, _ans):\n",
    "        if _n == 0:\n",
    "            ans.append(_ans)\n",
    "            return\n",
    "\n",
    "        for i in range(len(_l)):\n",
    "            a = deepcopy(_l)[i+1:]\n",
    "            # a.pop(i)\n",
    "            b = deepcopy(_ans)\n",
    "            b.append(_l[i])\n",
    "            n_num_in_list_util(\n",
    "                a,\n",
    "                _n-1,\n",
    "                b    \n",
    "            )\n",
    "\n",
    "    n_num_in_list_util(_list, n, [])\n",
    "    \n",
    "    return ans"
   ]
  },
  {
   "cell_type": "code",
   "execution_count": null,
   "metadata": {
    "code_folding": [
     0,
     8
    ]
   },
   "outputs": [],
   "source": [
    "def conn_wifi_mesh(wifi_name, mesh_name):\n",
    "    ans = False\n",
    "    if int(mesh_name[-1]) <= int(n / 2):\n",
    "        ans = ans or wifi_name == mesh_name[:2]\n",
    "    if int(mesh_name[-1]) >= int(n / 2):\n",
    "        ans = ans or wifi_name == mesh_name[2:4]\n",
    "    return ans\n",
    "\n",
    "def conn_mesh_mesh(m_name1, m_name2):\n",
    "    fh1 = m_name1[:2]\n",
    "    fh2 = m_name2[:2]\n",
    "\n",
    "    lh1 = m_name1[2:4]\n",
    "    lh2 = m_name2[2:4]\n",
    "\n",
    "    if fh1 == fh2 and lh1 == lh2:\n",
    "        return abs(int(m_name1[-1]) - int(m_name2[-1])) == 1\n",
    "\n",
    "    if fh1 == fh2:\n",
    "        return m_name1[-1] == 0 and m_name2[-1] == 0\n",
    "\n",
    "    if fh1 == lh2:\n",
    "        return m_name1[-1] == 0 and m_name2[-1] == n - 1\n",
    "    if fh2 == lh1:\n",
    "        return m_name2[-1] == 0 and m_name1[-1] == n - 1\n",
    "\n",
    "    return False"
   ]
  },
  {
   "cell_type": "code",
   "execution_count": null,
   "metadata": {
    "code_folding": [
     0
    ]
   },
   "outputs": [],
   "source": [
    "def all_conn_mesh(mesh, key):\n",
    "    res = set()\n",
    "    for k in mesh.keys():\n",
    "        if conn_mesh_mesh(k, key):\n",
    "            res.add(k)\n",
    "    return res"
   ]
  },
  {
   "cell_type": "code",
   "execution_count": null,
   "metadata": {
    "code_folding": [
     1
    ]
   },
   "outputs": [],
   "source": [
    "# param = {'00':True, '01':False, ...}\n",
    "def total_connected_devices_util(wifi={}):\n",
    "    mesh = {}\n",
    "\n",
    "    pi, pj = None, None\n",
    "    for i in range(b):\n",
    "        for j in range(l):\n",
    "            if pi != None and pj != None:\n",
    "                for k in range(n):\n",
    "                    mesh[str(pi) + str(pj) + str(i) + str(j) + str(k)] = False\n",
    "            pj = j\n",
    "            pi = i\n",
    "        pj = None\n",
    "\n",
    "    pi, pj = None, None\n",
    "    for j in range(l):\n",
    "        for i in range(b):\n",
    "            if pi != None and pj != None:\n",
    "                for k in range(n):\n",
    "                    mesh[str(pi) + str(pj) + str(i) + str(j) + str(k)] = False\n",
    "            pi = i\n",
    "            pj = j\n",
    "        pi = None\n",
    "\n",
    "    for i in range(b):\n",
    "        for j in range(l):\n",
    "            if str(i) + str(j) not in wifi:\n",
    "                wifi[str(i) + str(j)] = True\n",
    "\n",
    "    for key in mesh.keys():\n",
    "        for k in wifi:\n",
    "            if conn_wifi_mesh(k, key):\n",
    "                mesh[key] = mesh[key] or wifi[k]\n",
    "\n",
    "    tmp_keys = set([1])\n",
    "    for key in mesh.keys():\n",
    "\n",
    "        def fun(_key, _hops):\n",
    "            if _hops > 0:\n",
    "                for k in all_conn_mesh(mesh, _key):\n",
    "                    tmp_keys.add(k)\n",
    "                    fun(k, _hops - 1)\n",
    "\n",
    "        if mesh[key]:\n",
    "            fun(key, hops)\n",
    "    for k in tmp_keys:\n",
    "        mesh[k] = True\n",
    "\n",
    "    # print(mesh)\n",
    "    ct = 0\n",
    "    for k, v in mesh.items():\n",
    "        if v:\n",
    "            ct += 1\n",
    "        # else:\n",
    "        #     print(v)\n",
    "    return ct"
   ]
  },
  {
   "cell_type": "code",
   "execution_count": null,
   "metadata": {
    "code_folding": []
   },
   "outputs": [],
   "source": [
    "n_threads = int(input(\"Enter number of threads: \"))\n",
    "def _local(off_indices, wifi):\n",
    "    dic = {}\n",
    "    for _ in off_indices:\n",
    "        dic[wifi[_]] = False\n",
    "    return total_connected_devices_util(dic)\n",
    "\n",
    "# pass number of wifi to turn off\n",
    "def total_connected_devices(off_ct):\n",
    "    wifi = []\n",
    "    for i in range(b):\n",
    "        for j in range(l):\n",
    "            wifi.append(str(i) + str(j))\n",
    "    \n",
    "    off_indices_list = n_num_in_list([i for i in range(len(wifi))], off_ct)\n",
    "\n",
    "    val, ct = 0, len(off_indices_list)\n",
    "\n",
    "    with concurrent.futures.ProcessPoolExecutor(max_workers=n_threads) as e:\n",
    "        futures = [e.submit(_local, off_indices, wifi) for off_indices in off_indices_list]\n",
    "        for f in futures: \n",
    "            if f.result():\n",
    "                a = f.result()\n",
    "                val+=a\n",
    "#                 print(a)\n",
    "    \n",
    "    return int(val/ct)"
   ]
  },
  {
   "cell_type": "code",
   "execution_count": null,
   "metadata": {},
   "outputs": [],
   "source": [
    "_h = hops\n",
    "# 0 hops -> only wifi\n",
    "hops = 0\n",
    "for ct in range(l*b):\n",
    "    print(ct, total_connected_devices(off_ct = ct))"
   ]
  },
  {
   "cell_type": "code",
   "execution_count": null,
   "metadata": {},
   "outputs": [],
   "source": [
    "# lets say 5 hops allowed\n",
    "hops = _h\n",
    "for ct in range(l*b):\n",
    "    print(ct, total_connected_devices(off_ct = ct))"
   ]
  }
 ],
 "metadata": {
  "kernelspec": {
   "display_name": "Python 3",
   "language": "python",
   "name": "python3"
  },
  "language_info": {
   "codemirror_mode": {
    "name": "ipython",
    "version": 3
   },
   "file_extension": ".py",
   "mimetype": "text/x-python",
   "name": "python",
   "nbconvert_exporter": "python",
   "pygments_lexer": "ipython3",
   "version": "3.7.3"
  }
 },
 "nbformat": 4,
 "nbformat_minor": 4
}
